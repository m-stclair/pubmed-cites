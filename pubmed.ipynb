{
 "cells": [
  {
   "cell_type": "code",
   "execution_count": null,
   "id": "f4b570f7",
   "metadata": {},
   "outputs": [],
   "source": [
    "import time\n",
    "\n",
    "import numpy as np\n",
    "import pandas as pd\n",
    "\n",
    "from pmapi import get_pmcids, get_pmcid_metadata"
   ]
  },
  {
   "cell_type": "code",
   "execution_count": null,
   "id": "37641bef",
   "metadata": {},
   "outputs": [],
   "source": [
    "terms = [\"forensic proteomics\", \"hair evidence\"]\n",
    "records = []\n",
    "for term in terms:\n",
    "    print(term)\n",
    "    pmcids = get_pmcids(term)\n",
    "    print(f\"{len(pmcids)} results, querying...\")\n",
    "    delay = 0.5\n",
    "    for pmcid in pmcids:\n",
    "        records.append({'term': term} | get_pmcid_metadata(pmcid))\n",
    "        time.sleep(delay)"
   ]
  },
  {
   "cell_type": "code",
   "execution_count": null,
   "id": "bebb102f",
   "metadata": {},
   "outputs": [],
   "source": [
    "citation_df = pd.DataFrame(records)\n",
    "citation_df"
   ]
  },
  {
   "cell_type": "code",
   "execution_count": null,
   "id": "a165a101",
   "metadata": {},
   "outputs": [],
   "source": [
    "# occurrences = citation_df[['term', 'year']].value_counts()"
   ]
  },
  {
   "cell_type": "code",
   "execution_count": null,
   "id": "eaa3f348",
   "metadata": {},
   "outputs": [],
   "source": [
    "citation_df[\"counter\"] = 1\n",
    "occurrences = citation_df[[\"term\", \"year\", \"counter\"]].pivot_table(\n",
    "    index=[\"term\", \"year\"], values=\"counter\", aggfunc=\"count\"\n",
    ")\n",
    "id_cols = np.array(occurrences.index.to_list())\n",
    "id_df = pd.DataFrame(id_cols, columns = ['term', 'year'])\n",
    "id_df['count'] = occurrences['counter'].tolist()\n",
    "id_df"
   ]
  }
 ],
 "metadata": {
  "kernelspec": {
   "display_name": "Python 3 (ipykernel)",
   "language": "python",
   "name": "python3"
  },
  "language_info": {
   "codemirror_mode": {
    "name": "ipython",
    "version": 3
   },
   "file_extension": ".py",
   "mimetype": "text/x-python",
   "name": "python",
   "nbconvert_exporter": "python",
   "pygments_lexer": "ipython3",
   "version": "3.11.0"
  }
 },
 "nbformat": 4,
 "nbformat_minor": 5
}
